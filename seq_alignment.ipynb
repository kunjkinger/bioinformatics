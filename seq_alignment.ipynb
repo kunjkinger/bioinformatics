{
  "nbformat": 4,
  "nbformat_minor": 0,
  "metadata": {
    "colab": {
      "name": "seq_alignment.ipynb",
      "provenance": [],
      "collapsed_sections": [],
      "authorship_tag": "ABX9TyMuOVFYNv98J71sBixScGo0",
      "include_colab_link": true
    },
    "kernelspec": {
      "name": "python3",
      "display_name": "Python 3"
    },
    "language_info": {
      "name": "python"
    }
  },
  "cells": [
    {
      "cell_type": "markdown",
      "metadata": {
        "id": "view-in-github",
        "colab_type": "text"
      },
      "source": [
        "<a href=\"https://colab.research.google.com/github/kunjkinger/bioinformatics/blob/main/seq_alignment.ipynb\" target=\"_parent\"><img src=\"https://colab.research.google.com/assets/colab-badge.svg\" alt=\"Open In Colab\"/></a>"
      ]
    },
    {
      "cell_type": "code",
      "metadata": {
        "colab": {
          "base_uri": "https://localhost:8080/"
        },
        "id": "Dh_v5bOpqkGY",
        "outputId": "95879cf1-f953-4380-aedf-240d6f915e91"
      },
      "source": [
        "!pip install biopython==1.76\n"
      ],
      "execution_count": 1,
      "outputs": [
        {
          "output_type": "stream",
          "text": [
            "Collecting biopython==1.76\n",
            "\u001b[?25l  Downloading https://files.pythonhosted.org/packages/7d/2a/48ef94adf91c079bb7a97b38193a06735e1c41fbc19ee57edd8bebd6c6fa/biopython-1.76-cp37-cp37m-manylinux1_x86_64.whl (2.3MB)\n",
            "\u001b[K     |████████████████████████████████| 2.3MB 17.0MB/s \n",
            "\u001b[?25hRequirement already satisfied: numpy in /usr/local/lib/python3.7/dist-packages (from biopython==1.76) (1.19.5)\n",
            "Installing collected packages: biopython\n",
            "Successfully installed biopython-1.76\n"
          ],
          "name": "stdout"
        }
      ]
    },
    {
      "cell_type": "code",
      "metadata": {
        "id": "5ioMk6Kyqp-L"
      },
      "source": [
        ""
      ],
      "execution_count": null,
      "outputs": []
    },
    {
      "cell_type": "markdown",
      "metadata": {
        "id": "E-y37Yomqwgh"
      },
      "source": [
        "Sequence Alignment\n",
        "\n",
        "\n",
        "*   method of arranging sequences of DNA,RNA or Amino acids or proteins to identify regions of similarity\n",
        "*   similarity being identified,may be a result of functional, structural or evolutionary relationships bet the sequences.\n",
        "*  It is useful in identifying similarity and homology\n",
        "*  Homology: descent from a common ancestor or source\n",
        "\n",
        "TERMS\n",
        "* Matches\n",
        "* mismatches\n",
        "* Gap\n",
        "\n",
        "Seq 1:  A        C      T  C   G\n",
        "Seq 2:  A        T      T  C   -\n",
        "        match  mismatch       gap\n"
      ]
    },
    {
      "cell_type": "code",
      "metadata": {
        "id": "N5tkxHCws6jH"
      },
      "source": [
        ""
      ],
      "execution_count": null,
      "outputs": []
    },
    {
      "cell_type": "markdown",
      "metadata": {
        "id": "0bKEsh4_s7N7"
      },
      "source": [
        "Two types of alignment\n",
        "\n",
        "* Global alignment (finds the best concordance/agreement bet all characters into 2 seq) -- mostly from end to end\n",
        "\n",
        "5'  ACTACTAGATTACTTACGGATCAGGTACTTTAGAGGCTTGCAACCA 3'\n",
        "    |||||||||||    |||||||  |||||||||||||| |||||||\n",
        "5'  ACTACTAGATT----ACGGATC--GTACTTTAGAGGCTAGCAACCA 3'\n",
        "\n",
        "* local aligment (consider subsequences within each of the 2 sequences and try to match them to obtain the best alignment)\n",
        "\n",
        "\n",
        "5'  ACTACTAGATTACTTACGGATCAGGTACTTTAGAGGCTTGCAACCA 3' (Target sequence)\n",
        "              |||| |||||| |||||||||||||||\n",
        "5'            TACTCACGGATGAGGTACTTTAGAGGA          3' (Query sequence)\n",
        "\n",
        "\n",
        "when to use local alignment?\n",
        "\n",
        "* 2 seq have a small matched region\n",
        "* 2 seq of diff length\n",
        "* overlapping sequences\n",
        "* one sequence is a subsequence of other\n",
        "* blast\n",
        "* emboss"
      ]
    },
    {
      "cell_type": "code",
      "metadata": {
        "id": "4qklBkLTvPUj"
      },
      "source": [
        "import Bio"
      ],
      "execution_count": 2,
      "outputs": []
    },
    {
      "cell_type": "code",
      "metadata": {
        "id": "H-RDe7ppv73a"
      },
      "source": [
        "from Bio import pairwise2\n",
        "from Bio.pairwise2 import format_alignment"
      ],
      "execution_count": 4,
      "outputs": []
    },
    {
      "cell_type": "code",
      "metadata": {
        "id": "V-RpukHiwAbc"
      },
      "source": [
        "from Bio.Seq import Seq"
      ],
      "execution_count": 5,
      "outputs": []
    },
    {
      "cell_type": "code",
      "metadata": {
        "id": "lWlQ_wLPwV4V"
      },
      "source": [
        "seq1 = Seq('ACTCGT')\n",
        "seq2 = Seq('ATTCCG')"
      ],
      "execution_count": 7,
      "outputs": []
    },
    {
      "cell_type": "code",
      "metadata": {
        "id": "N1vTJfLAwgVJ"
      },
      "source": [
        "#global alignment \n",
        "alignments = pairwise2.align.globalxx(seq1,seq2)"
      ],
      "execution_count": 8,
      "outputs": []
    },
    {
      "cell_type": "code",
      "metadata": {
        "colab": {
          "base_uri": "https://localhost:8080/"
        },
        "id": "U1gn9FFTwjhj",
        "outputId": "2d4cc522-f03a-4e4f-cd4b-176b99300f5b"
      },
      "source": [
        "alignments"
      ],
      "execution_count": 9,
      "outputs": [
        {
          "output_type": "execute_result",
          "data": {
            "text/plain": [
              "[('ACT-C-GT', 'A-TTCCG-', 4.0, 0, 8),\n",
              " ('AC-TC-GT', 'A-TTCCG-', 4.0, 0, 8),\n",
              " ('ACTC-GT', 'ATTCCG-', 4.0, 0, 7),\n",
              " ('ACT--CGT', 'A-TTCCG-', 4.0, 0, 8),\n",
              " ('AC-T-CGT', 'A-TTCCG-', 4.0, 0, 8),\n",
              " ('ACT-CGT', 'ATTCCG-', 4.0, 0, 7),\n",
              " ('A--CTCGT', 'ATTC-CG-', 4.0, 0, 8)]"
            ]
          },
          "metadata": {
            "tags": []
          },
          "execution_count": 9
        }
      ]
    },
    {
      "cell_type": "code",
      "metadata": {
        "colab": {
          "base_uri": "https://localhost:8080/"
        },
        "id": "yasvM8Zdwv9g",
        "outputId": "7aee4237-1189-4d1c-b7c3-c3b26df0dc8b"
      },
      "source": [
        "# to display the alignment\n",
        "print(format_alignment(*alignments[0]))"
      ],
      "execution_count": 13,
      "outputs": [
        {
          "output_type": "stream",
          "text": [
            "ACT-C-GT\n",
            "| | | | \n",
            "A-TTCCG-\n",
            "  Score=4\n",
            "\n"
          ],
          "name": "stdout"
        }
      ]
    },
    {
      "cell_type": "code",
      "metadata": {
        "colab": {
          "base_uri": "https://localhost:8080/"
        },
        "id": "mHnPgLzcxCD4",
        "outputId": "68f2646b-1df1-4a88-e292-30d2ae2e7d64"
      },
      "source": [
        "#view all\n",
        "for i in alignments:\n",
        "  print(format_alignment(*i))"
      ],
      "execution_count": 15,
      "outputs": [
        {
          "output_type": "stream",
          "text": [
            "ACT-C-GT\n",
            "| | | | \n",
            "A-TTCCG-\n",
            "  Score=4\n",
            "\n",
            "AC-TC-GT\n",
            "|  || | \n",
            "A-TTCCG-\n",
            "  Score=4\n",
            "\n",
            "ACTC-GT\n",
            "|.|| | \n",
            "ATTCCG-\n",
            "  Score=4\n",
            "\n",
            "ACT--CGT\n",
            "| |  || \n",
            "A-TTCCG-\n",
            "  Score=4\n",
            "\n",
            "AC-T-CGT\n",
            "|  | || \n",
            "A-TTCCG-\n",
            "  Score=4\n",
            "\n",
            "ACT-CGT\n",
            "|.| || \n",
            "ATTCCG-\n",
            "  Score=4\n",
            "\n",
            "A--CTCGT\n",
            "|  | || \n",
            "ATTC-CG-\n",
            "  Score=4\n",
            "\n"
          ],
          "name": "stdout"
        }
      ]
    },
    {
      "cell_type": "code",
      "metadata": {
        "id": "6LkG9O1ixV4U"
      },
      "source": [
        "#local alignment\n",
        "local_alignment = pairwise2.align.localxx(seq1,seq2)"
      ],
      "execution_count": 16,
      "outputs": []
    },
    {
      "cell_type": "code",
      "metadata": {
        "colab": {
          "base_uri": "https://localhost:8080/"
        },
        "id": "462bRH_exx1k",
        "outputId": "22f1e683-8272-4a11-f292-1d87e8821fed"
      },
      "source": [
        "for a in local_alignment:\n",
        "  print(format_alignment(*a))"
      ],
      "execution_count": 17,
      "outputs": [
        {
          "output_type": "stream",
          "text": [
            "1 ACT-C-G\n",
            "  | | | |\n",
            "1 A-TTCCG\n",
            "  Score=4\n",
            "\n",
            "1 AC-TC-G\n",
            "  |  || |\n",
            "1 A-TTCCG\n",
            "  Score=4\n",
            "\n",
            "1 ACTC-G\n",
            "  |.|| |\n",
            "1 ATTCCG\n",
            "  Score=4\n",
            "\n",
            "1 ACT--CG\n",
            "  | |  ||\n",
            "1 A-TTCCG\n",
            "  Score=4\n",
            "\n",
            "1 AC-T-CG\n",
            "  |  | ||\n",
            "1 A-TTCCG\n",
            "  Score=4\n",
            "\n",
            "1 ACT-CG\n",
            "  |.| ||\n",
            "1 ATTCCG\n",
            "  Score=4\n",
            "\n",
            "1 A--CTCG\n",
            "  |  | ||\n",
            "1 ATTC-CG\n",
            "  Score=4\n",
            "\n"
          ],
          "name": "stdout"
        }
      ]
    },
    {
      "cell_type": "code",
      "metadata": {
        "id": "Aot_QVekx1ux"
      },
      "source": [
        "#get the alignment by only with the score\n",
        "alignment2 = pairwise2.align.globalxx(seq1,seq2,one_alignment_only=True,score_only=True)"
      ],
      "execution_count": 20,
      "outputs": []
    },
    {
      "cell_type": "code",
      "metadata": {
        "colab": {
          "base_uri": "https://localhost:8080/"
        },
        "id": "izPNpA3WyK87",
        "outputId": "3b475286-fcce-4708-f301-0a6510700fee"
      },
      "source": [
        "alignment2"
      ],
      "execution_count": 21,
      "outputs": [
        {
          "output_type": "execute_result",
          "data": {
            "text/plain": [
              "4.0"
            ]
          },
          "metadata": {
            "tags": []
          },
          "execution_count": 21
        }
      ]
    },
    {
      "cell_type": "code",
      "metadata": {
        "id": "aaGbM6L3yMmG"
      },
      "source": [
        ""
      ],
      "execution_count": null,
      "outputs": []
    },
    {
      "cell_type": "markdown",
      "metadata": {
        "id": "53YT5PazyXgr"
      },
      "source": [
        "check for similarity or percentage of similarity using Alignment\n",
        "* fraction of nucleotides that is same/total number of nucleotides"
      ]
    },
    {
      "cell_type": "code",
      "metadata": {
        "colab": {
          "base_uri": "https://localhost:8080/"
        },
        "id": "rkp5wv8byl3r",
        "outputId": "cf73b938-f0a8-4151-c02e-8f295748e9a5"
      },
      "source": [
        "seq1"
      ],
      "execution_count": 22,
      "outputs": [
        {
          "output_type": "execute_result",
          "data": {
            "text/plain": [
              "Seq('ACTCGT')"
            ]
          },
          "metadata": {
            "tags": []
          },
          "execution_count": 22
        }
      ]
    },
    {
      "cell_type": "code",
      "metadata": {
        "colab": {
          "base_uri": "https://localhost:8080/"
        },
        "id": "BjwMOxaXypQ4",
        "outputId": "432292e1-82de-41eb-c0dc-89c6d1363c85"
      },
      "source": [
        "seq2"
      ],
      "execution_count": 23,
      "outputs": [
        {
          "output_type": "execute_result",
          "data": {
            "text/plain": [
              "Seq('ATTCCG')"
            ]
          },
          "metadata": {
            "tags": []
          },
          "execution_count": 23
        }
      ]
    },
    {
      "cell_type": "code",
      "metadata": {
        "colab": {
          "base_uri": "https://localhost:8080/"
        },
        "id": "xFBlbAGPyqEl",
        "outputId": "352f2dbd-49b6-4e36-c5d5-8e78eb3e7dbd"
      },
      "source": [
        "alignment2/len(seq1) * 100"
      ],
      "execution_count": 25,
      "outputs": [
        {
          "output_type": "execute_result",
          "data": {
            "text/plain": [
              "66.66666666666666"
            ]
          },
          "metadata": {
            "tags": []
          },
          "execution_count": 25
        }
      ]
    },
    {
      "cell_type": "code",
      "metadata": {
        "id": "NxDBSaFFytN0"
      },
      "source": [
        "#local alignment \n",
        "loc_aligment = pairwise2.align.localxx(seq1,seq2,one_alignment_only=True,score_only=True)"
      ],
      "execution_count": 26,
      "outputs": []
    },
    {
      "cell_type": "code",
      "metadata": {
        "colab": {
          "base_uri": "https://localhost:8080/"
        },
        "id": "n5Bz-DoAzKS3",
        "outputId": "9035b7f3-c325-4f4b-cae2-0af08c0f5c64"
      },
      "source": [
        "loc_aligment"
      ],
      "execution_count": 27,
      "outputs": [
        {
          "output_type": "execute_result",
          "data": {
            "text/plain": [
              "4.0"
            ]
          },
          "metadata": {
            "tags": []
          },
          "execution_count": 27
        }
      ]
    },
    {
      "cell_type": "code",
      "metadata": {
        "colab": {
          "base_uri": "https://localhost:8080/"
        },
        "id": "Uu31GYUdzLt_",
        "outputId": "f2b6a399-7cc6-4cc9-d0c1-75dfba8b27a1"
      },
      "source": [
        "loc_aligment/len(seq1) *100"
      ],
      "execution_count": 28,
      "outputs": [
        {
          "output_type": "execute_result",
          "data": {
            "text/plain": [
              "66.66666666666666"
            ]
          },
          "metadata": {
            "tags": []
          },
          "execution_count": 28
        }
      ]
    },
    {
      "cell_type": "code",
      "metadata": {
        "id": "Jc3GOhaozQUc"
      },
      "source": [
        ""
      ],
      "execution_count": null,
      "outputs": []
    },
    {
      "cell_type": "markdown",
      "metadata": {
        "id": "lqZFGRd-zUPL"
      },
      "source": [
        "find out all the possible global alignment with the maximum similarity score\n",
        "* matching characters: 2 points\n",
        "* each mismatching : -1 point\n",
        "* 0.5 deducted when opening a gap\n",
        "* 0.1 deducted when extending it"
      ]
    },
    {
      "cell_type": "code",
      "metadata": {
        "id": "CqrHXhtwzrXG"
      },
      "source": [
        "#global alignment with max sim\n",
        "glb_alignment = pairwise2.align.globalms(seq1,seq2,2,-1,-0.5,-0.1)"
      ],
      "execution_count": 29,
      "outputs": []
    },
    {
      "cell_type": "code",
      "metadata": {
        "colab": {
          "base_uri": "https://localhost:8080/"
        },
        "id": "iPCf_xSZ0HUm",
        "outputId": "3275a4a2-db35-4b12-aebc-4b59b77ec2da"
      },
      "source": [
        "for a in glb_alignment:\n",
        "  print(format_alignment(*a))"
      ],
      "execution_count": 30,
      "outputs": [
        {
          "output_type": "stream",
          "text": [
            "A--CTCGT\n",
            "|  | || \n",
            "ATTC-CG-\n",
            "  Score=6.4\n",
            "\n",
            "ACT--CGT\n",
            "| |  || \n",
            "A-TTCCG-\n",
            "  Score=6.4\n",
            "\n"
          ],
          "name": "stdout"
        }
      ]
    },
    {
      "cell_type": "code",
      "metadata": {
        "id": "BWfGiXxZ0PMW"
      },
      "source": [
        ""
      ],
      "execution_count": null,
      "outputs": []
    }
  ]
}
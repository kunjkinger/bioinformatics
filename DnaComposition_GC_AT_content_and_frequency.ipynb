{
  "nbformat": 4,
  "nbformat_minor": 0,
  "metadata": {
    "colab": {
      "name": "DnaComposition_GC_AT_content_and_frequency.ipynb",
      "provenance": [],
      "collapsed_sections": [],
      "authorship_tag": "ABX9TyO/tX5oD0wcraWI7EP3iNj+",
      "include_colab_link": true
    },
    "kernelspec": {
      "name": "python3",
      "display_name": "Python 3"
    },
    "language_info": {
      "name": "python"
    }
  },
  "cells": [
    {
      "cell_type": "markdown",
      "metadata": {
        "id": "view-in-github",
        "colab_type": "text"
      },
      "source": [
        "<a href=\"https://colab.research.google.com/github/kunjkinger/bioinformatics/blob/main/DnaComposition_GC_AT_content_and_frequency.ipynb\" target=\"_parent\"><img src=\"https://colab.research.google.com/assets/colab-badge.svg\" alt=\"Open In Colab\"/></a>"
      ]
    },
    {
      "cell_type": "code",
      "metadata": {
        "colab": {
          "base_uri": "https://localhost:8080/"
        },
        "id": "OvdLUvPhX_Kp",
        "outputId": "509c86e6-1750-4acb-9ab5-a7faebd74e45"
      },
      "source": [
        "!pip install biopython==1.76\n"
      ],
      "execution_count": 1,
      "outputs": [
        {
          "output_type": "stream",
          "text": [
            "Collecting biopython==1.76\n",
            "\u001b[?25l  Downloading https://files.pythonhosted.org/packages/7d/2a/48ef94adf91c079bb7a97b38193a06735e1c41fbc19ee57edd8bebd6c6fa/biopython-1.76-cp37-cp37m-manylinux1_x86_64.whl (2.3MB)\n",
            "\u001b[K     |████████████████████████████████| 2.3MB 4.9MB/s \n",
            "\u001b[?25hRequirement already satisfied: numpy in /usr/local/lib/python3.7/dist-packages (from biopython==1.76) (1.19.5)\n",
            "Installing collected packages: biopython\n",
            "Successfully installed biopython-1.76\n"
          ],
          "name": "stdout"
        }
      ]
    },
    {
      "cell_type": "code",
      "metadata": {
        "id": "rXQqRo4-YNy1"
      },
      "source": [
        ""
      ],
      "execution_count": null,
      "outputs": []
    },
    {
      "cell_type": "markdown",
      "metadata": {
        "id": "5MV3gsmvYVX7"
      },
      "source": [
        "## GC content in dna\n",
        "\n",
        "*   GC content is the percentage of nitrogeous bases in a DNa or RNA _molecule that are either G (guanine) or cytosine(c)\n",
        "\n",
        "A=T means 2 hydrogen bond\n",
        "G=-C means 3 hydrogen bond and more stable to mutate \n",
        "\n",
        "--> higher gc content level indicates a relatively higher melting temperature.\n",
        "\n",
        "\n",
        "\n",
        "*   AT contents in dna\n",
        "--> At base yeilds only 2 hydrogen bonds"
      ]
    },
    {
      "cell_type": "code",
      "metadata": {
        "id": "hgyHO_rpaHNI"
      },
      "source": [
        "import Bio"
      ],
      "execution_count": 3,
      "outputs": []
    },
    {
      "cell_type": "code",
      "metadata": {
        "id": "rLWeITrkaHZR"
      },
      "source": [
        "from Bio.Seq import Seq"
      ],
      "execution_count": 4,
      "outputs": []
    },
    {
      "cell_type": "code",
      "metadata": {
        "id": "h40Sfr9YZ44v"
      },
      "source": [
        "from Bio.SeqUtils import GC\n"
      ],
      "execution_count": 28,
      "outputs": []
    },
    {
      "cell_type": "code",
      "metadata": {
        "id": "Yhh1A3ybZ_eh"
      },
      "source": [
        "dna = Seq('ATGATCTCGTAA')"
      ],
      "execution_count": 5,
      "outputs": []
    },
    {
      "cell_type": "code",
      "metadata": {
        "colab": {
          "base_uri": "https://localhost:8080/"
        },
        "id": "wGR90O9oaTr8",
        "outputId": "e2f03fca-f3df-4eba-fc1e-355dfd36d4c0"
      },
      "source": [
        "dna"
      ],
      "execution_count": 6,
      "outputs": [
        {
          "output_type": "execute_result",
          "data": {
            "text/plain": [
              "Seq('ATGATCTCGTAA')"
            ]
          },
          "metadata": {
            "tags": []
          },
          "execution_count": 6
        }
      ]
    },
    {
      "cell_type": "code",
      "metadata": {
        "colab": {
          "base_uri": "https://localhost:8080/"
        },
        "id": "ASiSQDUYaUjo",
        "outputId": "f5318210-93fe-4823-ec5e-ff9b78d76bfa"
      },
      "source": [
        "GC(dna)"
      ],
      "execution_count": 7,
      "outputs": [
        {
          "output_type": "execute_result",
          "data": {
            "text/plain": [
              "33.333333333333336"
            ]
          },
          "metadata": {
            "tags": []
          },
          "execution_count": 7
        }
      ]
    },
    {
      "cell_type": "code",
      "metadata": {
        "colab": {
          "base_uri": "https://localhost:8080/"
        },
        "id": "Zo8WGFMUaXwB",
        "outputId": "0b33845f-f52b-4dd2-bd0a-32d822014b11"
      },
      "source": [
        "#method 2\n",
        "#custom fxn to get the GC count\n",
        "dna.count('G')"
      ],
      "execution_count": 10,
      "outputs": [
        {
          "output_type": "execute_result",
          "data": {
            "text/plain": [
              "2"
            ]
          },
          "metadata": {
            "tags": []
          },
          "execution_count": 10
        }
      ]
    },
    {
      "cell_type": "code",
      "metadata": {
        "id": "Qu_bxcN_adQI"
      },
      "source": [
        "def gc_content(seq):\n",
        "  result = float(seq.count('G') + seq.count('C'))/len(seq) * 100\n",
        "  return result"
      ],
      "execution_count": 16,
      "outputs": []
    },
    {
      "cell_type": "code",
      "metadata": {
        "colab": {
          "base_uri": "https://localhost:8080/"
        },
        "id": "OP3NsFbTa2oB",
        "outputId": "a584710b-920c-4e96-dde7-cdff1b4a748d"
      },
      "source": [
        "gc_content(dna)"
      ],
      "execution_count": 17,
      "outputs": [
        {
          "output_type": "execute_result",
          "data": {
            "text/plain": [
              "33.33333333333333"
            ]
          },
          "metadata": {
            "tags": []
          },
          "execution_count": 17
        }
      ]
    },
    {
      "cell_type": "code",
      "metadata": {
        "id": "GBOsRu0Na7Ih"
      },
      "source": [
        "#method 3\n",
        "def gc_content2(seq):\n",
        "  gc = [ B for B in seq if B in 'GC']\n",
        "  result = float(len(gc))/len(seq) * 100\n",
        "  return result"
      ],
      "execution_count": 19,
      "outputs": []
    },
    {
      "cell_type": "code",
      "metadata": {
        "colab": {
          "base_uri": "https://localhost:8080/"
        },
        "id": "-WOqyKxEbhi8",
        "outputId": "ad6bfe83-c18d-4f69-e01e-7e1678b87bfa"
      },
      "source": [
        "gc_content2(dna)"
      ],
      "execution_count": 20,
      "outputs": [
        {
          "output_type": "execute_result",
          "data": {
            "text/plain": [
              "33.33333333333333"
            ]
          },
          "metadata": {
            "tags": []
          },
          "execution_count": 20
        }
      ]
    },
    {
      "cell_type": "code",
      "metadata": {
        "colab": {
          "base_uri": "https://localhost:8080/"
        },
        "id": "AV7uQkXpbo10",
        "outputId": "944b95b1-e654-4db8-f3dd-4fabbfef99e3"
      },
      "source": [
        "dna.lower()"
      ],
      "execution_count": 23,
      "outputs": [
        {
          "output_type": "execute_result",
          "data": {
            "text/plain": [
              "Seq('atgatctcgtaa')"
            ]
          },
          "metadata": {
            "tags": []
          },
          "execution_count": 23
        }
      ]
    },
    {
      "cell_type": "code",
      "metadata": {
        "colab": {
          "base_uri": "https://localhost:8080/"
        },
        "id": "H2ykzzW1cJQw",
        "outputId": "0e7f3870-b9be-4b77-d3fc-d85188feff9d"
      },
      "source": [
        "gc_content2(dna.lower())"
      ],
      "execution_count": 24,
      "outputs": [
        {
          "output_type": "execute_result",
          "data": {
            "text/plain": [
              "0.0"
            ]
          },
          "metadata": {
            "tags": []
          },
          "execution_count": 24
        }
      ]
    },
    {
      "cell_type": "code",
      "metadata": {
        "colab": {
          "base_uri": "https://localhost:8080/"
        },
        "id": "A8YCaq6-cNPI",
        "outputId": "29c8e117-5c24-40f9-d3ae-4f2c199e8118"
      },
      "source": [
        "GC(dna.lower())"
      ],
      "execution_count": 25,
      "outputs": [
        {
          "output_type": "execute_result",
          "data": {
            "text/plain": [
              "33.333333333333336"
            ]
          },
          "metadata": {
            "tags": []
          },
          "execution_count": 25
        }
      ]
    },
    {
      "cell_type": "code",
      "metadata": {
        "id": "qZsAHXMWcPbB"
      },
      "source": [
        "#### AT content"
      ],
      "execution_count": 26,
      "outputs": []
    },
    {
      "cell_type": "code",
      "metadata": {
        "id": "iZhFFqiTcqi5"
      },
      "source": [
        "def at_content(seq):\n",
        "  at = [b for b in seq.upper() if b in 'AT']\n",
        "  result = float(len(at))/len(seq)*100\n",
        "  return result"
      ],
      "execution_count": 35,
      "outputs": []
    },
    {
      "cell_type": "code",
      "metadata": {
        "colab": {
          "base_uri": "https://localhost:8080/"
        },
        "id": "feVNDX8RdjAi",
        "outputId": "0c268861-1a6f-4f33-d808-6510809a2180"
      },
      "source": [
        "at_content(dna)"
      ],
      "execution_count": 36,
      "outputs": [
        {
          "output_type": "execute_result",
          "data": {
            "text/plain": [
              "66.66666666666666"
            ]
          },
          "metadata": {
            "tags": []
          },
          "execution_count": 36
        }
      ]
    },
    {
      "cell_type": "code",
      "metadata": {
        "id": "DrwysprDdkby"
      },
      "source": [
        "#### melting point of DNA\n",
        "# --> Tm_wallace:'Rule of thumb'\n",
        "# --> tm_gc: Empirical formulas based on gc content. salt and mismatch corrections can be included\n",
        "# --> tm_NN: calculation based on nearest neighbor thermodynamics. several tables for DNA/DNA, DNA/RNA and RNA/RNA hybridizations are included. correction\n",
        "# for mimatches ,dangling ends, salt concerntration and other additives are available"
      ],
      "execution_count": 37,
      "outputs": []
    },
    {
      "cell_type": "code",
      "metadata": {
        "id": "cdtpvOsZfMIJ"
      },
      "source": [
        "import Bio.SeqUtils"
      ],
      "execution_count": 38,
      "outputs": []
    },
    {
      "cell_type": "code",
      "metadata": {
        "colab": {
          "base_uri": "https://localhost:8080/"
        },
        "id": "mCrvK4DZfSKv",
        "outputId": "ce72a8ed-3f59-45e1-d46d-5f62960d349f"
      },
      "source": [
        "dir(Bio.SeqUtils)"
      ],
      "execution_count": 39,
      "outputs": [
        {
          "output_type": "execute_result",
          "data": {
            "text/plain": [
              "['Alphabet',\n",
              " 'GC',\n",
              " 'GC123',\n",
              " 'GC_skew',\n",
              " 'IUPACData',\n",
              " 'MutableSeq',\n",
              " 'Seq',\n",
              " '__builtins__',\n",
              " '__cached__',\n",
              " '__doc__',\n",
              " '__file__',\n",
              " '__loader__',\n",
              " '__name__',\n",
              " '__package__',\n",
              " '__path__',\n",
              " '__spec__',\n",
              " 'cos',\n",
              " 'molecular_weight',\n",
              " 'nt_search',\n",
              " 'pi',\n",
              " 'print_function',\n",
              " 're',\n",
              " 'seq1',\n",
              " 'seq3',\n",
              " 'sin',\n",
              " 'six_frame_translations',\n",
              " 'xGC_skew']"
            ]
          },
          "metadata": {
            "tags": []
          },
          "execution_count": 39
        }
      ]
    },
    {
      "cell_type": "code",
      "metadata": {
        "id": "LzQ2vcetfV20"
      },
      "source": [
        "from Bio.SeqUtils import MeltingTemp as mt"
      ],
      "execution_count": 40,
      "outputs": []
    },
    {
      "cell_type": "code",
      "metadata": {
        "colab": {
          "base_uri": "https://localhost:8080/"
        },
        "id": "U0KADH_UffF-",
        "outputId": "732ee673-05c0-4c7b-fa08-0b70e86a7b47"
      },
      "source": [
        "dna "
      ],
      "execution_count": 41,
      "outputs": [
        {
          "output_type": "execute_result",
          "data": {
            "text/plain": [
              "Seq('ATGATCTCGTAA')"
            ]
          },
          "metadata": {
            "tags": []
          },
          "execution_count": 41
        }
      ]
    },
    {
      "cell_type": "code",
      "metadata": {
        "colab": {
          "base_uri": "https://localhost:8080/"
        },
        "id": "AvuX5rMqfgSl",
        "outputId": "8f749670-072d-4643-8dbf-b071b65dbac7"
      },
      "source": [
        "GC(dna)"
      ],
      "execution_count": 42,
      "outputs": [
        {
          "output_type": "execute_result",
          "data": {
            "text/plain": [
              "33.333333333333336"
            ]
          },
          "metadata": {
            "tags": []
          },
          "execution_count": 42
        }
      ]
    },
    {
      "cell_type": "code",
      "metadata": {
        "colab": {
          "base_uri": "https://localhost:8080/"
        },
        "id": "QPQ4E5qjfh4i",
        "outputId": "e62f2efc-1ce5-46ec-b567-09636294fa20"
      },
      "source": [
        "#check for melting point using wallace\n",
        "mt.Tm_Wallace(dna)"
      ],
      "execution_count": 43,
      "outputs": [
        {
          "output_type": "execute_result",
          "data": {
            "text/plain": [
              "32.0"
            ]
          },
          "metadata": {
            "tags": []
          },
          "execution_count": 43
        }
      ]
    },
    {
      "cell_type": "code",
      "metadata": {
        "colab": {
          "base_uri": "https://localhost:8080/"
        },
        "id": "OBh-gg54ft0g",
        "outputId": "f7de3b6b-c644-4a1e-c342-80d5ceffcc6e"
      },
      "source": [
        "#check for the melting point using gc content\n",
        "mt.Tm_GC(dna)"
      ],
      "execution_count": 44,
      "outputs": [
        {
          "output_type": "execute_result",
          "data": {
            "text/plain": [
              "23.32155893208184"
            ]
          },
          "metadata": {
            "tags": []
          },
          "execution_count": 44
        }
      ]
    },
    {
      "cell_type": "code",
      "metadata": {
        "id": "v5ZyS7a2f5kU"
      },
      "source": [
        "seq1 = Seq('ATGCATGGTGCGCGA')\n",
        "seq2 = Seq('ATTTGTGCTCCTGGA')"
      ],
      "execution_count": 48,
      "outputs": []
    },
    {
      "cell_type": "code",
      "metadata": {
        "id": "P0x7t3EegPWN"
      },
      "source": [
        "def get_metrics(seq):\n",
        "  gc = GC(seq)\n",
        "  at = at_content(seq)\n",
        "  melting_point = mt.Tm_GC(seq)\n",
        "  result = \"GC:{}, AT: {},Temp:{}\".format(gc,at,melting_point)\n",
        "  return result"
      ],
      "execution_count": 49,
      "outputs": []
    },
    {
      "cell_type": "code",
      "metadata": {
        "colab": {
          "base_uri": "https://localhost:8080/",
          "height": 35
        },
        "id": "ZQFIQ5begv_I",
        "outputId": "027ebf14-1bd2-4df2-f4ff-a2fdac94f909"
      },
      "source": [
        "get_metrics(seq1)"
      ],
      "execution_count": 50,
      "outputs": [
        {
          "output_type": "execute_result",
          "data": {
            "application/vnd.google.colaboratory.intrinsic+json": {
              "type": "string"
            },
            "text/plain": [
              "'GC:60.0, AT: 40.0,Temp:44.254892265415165'"
            ]
          },
          "metadata": {
            "tags": []
          },
          "execution_count": 50
        }
      ]
    },
    {
      "cell_type": "code",
      "metadata": {
        "colab": {
          "base_uri": "https://localhost:8080/",
          "height": 35
        },
        "id": "5tw4nBHggzfw",
        "outputId": "fb73ee0b-f1f2-40b1-d365-20185135d3a5"
      },
      "source": [
        "get_metrics(seq2)"
      ],
      "execution_count": 51,
      "outputs": [
        {
          "output_type": "execute_result",
          "data": {
            "application/vnd.google.colaboratory.intrinsic+json": {
              "type": "string"
            },
            "text/plain": [
              "'GC:46.666666666666664, AT: 53.333333333333336,Temp:38.7882255987485'"
            ]
          },
          "metadata": {
            "tags": []
          },
          "execution_count": 51
        }
      ]
    },
    {
      "cell_type": "code",
      "metadata": {
        "id": "wqWEw_1Lg7nC"
      },
      "source": [
        ""
      ],
      "execution_count": 51,
      "outputs": []
    },
    {
      "cell_type": "code",
      "metadata": {
        "id": "cbs3ME5HhJa7"
      },
      "source": [
        "#GC skew\n",
        "#check fo"
      ],
      "execution_count": 52,
      "outputs": []
    },
    {
      "cell_type": "markdown",
      "metadata": {
        "id": "kTt56wYChN7B"
      },
      "source": [
        "#GC skew\n",
        "##check when the nucleotide (G,C) are over or under abundant in a particular region of a DNA or RNA\n",
        "\n",
        "\n",
        "*   helps to indicate DNA lagging strand or leading strand\n",
        "\n",
        "\n",
        "*   GC skew pos = leading\n",
        "\n",
        "\n",
        "*   GC skew neg = lagging\n",
        "\n",
        "\n",
        "\n",
        "\n",
        "\n",
        "\n",
        "\n",
        "\n"
      ]
    },
    {
      "cell_type": "code",
      "metadata": {
        "id": "SbKO4hqAhKkx"
      },
      "source": [
        "from Bio.SeqUtils import GC123,GC_skew,xGC_skew"
      ],
      "execution_count": 53,
      "outputs": []
    },
    {
      "cell_type": "code",
      "metadata": {
        "colab": {
          "base_uri": "https://localhost:8080/"
        },
        "id": "AbOTNXFciIqC",
        "outputId": "e5c9d0ca-f0b0-4c76-bc93-3e16b6bf5e1d"
      },
      "source": [
        "#gc content 1,2,3\n",
        "dna"
      ],
      "execution_count": 55,
      "outputs": [
        {
          "output_type": "execute_result",
          "data": {
            "text/plain": [
              "Seq('ATGATCTCGTAA')"
            ]
          },
          "metadata": {
            "tags": []
          },
          "execution_count": 55
        }
      ]
    },
    {
      "cell_type": "code",
      "metadata": {
        "colab": {
          "base_uri": "https://localhost:8080/"
        },
        "id": "K9SwmrmkiWH3",
        "outputId": "8c369edf-c53e-4e28-8429-850fd075132c"
      },
      "source": [
        "GC(dna)"
      ],
      "execution_count": 57,
      "outputs": [
        {
          "output_type": "execute_result",
          "data": {
            "text/plain": [
              "33.333333333333336"
            ]
          },
          "metadata": {
            "tags": []
          },
          "execution_count": 57
        }
      ]
    },
    {
      "cell_type": "code",
      "metadata": {
        "colab": {
          "base_uri": "https://localhost:8080/"
        },
        "id": "ZedImqUziNyN",
        "outputId": "6c831ccc-232c-47e2-a551-14398e855fc6"
      },
      "source": [
        "GC123(dna)"
      ],
      "execution_count": 56,
      "outputs": [
        {
          "output_type": "execute_result",
          "data": {
            "text/plain": [
              "(33.333333333333336, 0.0, 25.0, 75.0)"
            ]
          },
          "metadata": {
            "tags": []
          },
          "execution_count": 56
        }
      ]
    },
    {
      "cell_type": "code",
      "metadata": {
        "colab": {
          "base_uri": "https://localhost:8080/"
        },
        "id": "8OTPpokWiQfh",
        "outputId": "cc74c323-a72c-4214-d1e4-34e69a7a8a00"
      },
      "source": [
        "#GC_Skew\n",
        "GC_skew(dna)"
      ],
      "execution_count": 59,
      "outputs": [
        {
          "output_type": "execute_result",
          "data": {
            "text/plain": [
              "[0.0]"
            ]
          },
          "metadata": {
            "tags": []
          },
          "execution_count": 59
        }
      ]
    },
    {
      "cell_type": "code",
      "metadata": {
        "id": "_mIjTjvBixnX"
      },
      "source": [
        ""
      ],
      "execution_count": null,
      "outputs": []
    },
    {
      "cell_type": "markdown",
      "metadata": {
        "id": "pnv5BrFhk0Lb"
      },
      "source": [
        "## Subsequences\n",
        "\n",
        "--> search for a DNA subseq in sequence , return listof [subseq,positions]"
      ]
    },
    {
      "cell_type": "code",
      "metadata": {
        "id": "LpFiebPYlDIy"
      },
      "source": [
        "from Bio.SeqUtils import nt_search"
      ],
      "execution_count": 61,
      "outputs": []
    },
    {
      "cell_type": "code",
      "metadata": {
        "id": "yudQ7moylHoZ"
      },
      "source": [
        "main_seq = Seq('ACTATT')\n",
        "subseq = Seq('ACT')"
      ],
      "execution_count": 64,
      "outputs": []
    },
    {
      "cell_type": "code",
      "metadata": {
        "colab": {
          "base_uri": "https://localhost:8080/"
        },
        "id": "a4iN4yvslLvq",
        "outputId": "762aae6d-1be8-4e07-ad70-7cae13fa0fed"
      },
      "source": [
        "nt_search(str(main_seq),str(subseq))"
      ],
      "execution_count": 65,
      "outputs": [
        {
          "output_type": "execute_result",
          "data": {
            "text/plain": [
              "['ACT', 0]"
            ]
          },
          "metadata": {
            "tags": []
          },
          "execution_count": 65
        }
      ]
    },
    {
      "cell_type": "code",
      "metadata": {
        "id": "AJOAtunElb3A"
      },
      "source": [
        "main_seq = Seq('TGCACTATT')\n",
        "subseq = Seq('ACT')"
      ],
      "execution_count": 66,
      "outputs": []
    },
    {
      "cell_type": "code",
      "metadata": {
        "colab": {
          "base_uri": "https://localhost:8080/"
        },
        "id": "O4lbha12lhmZ",
        "outputId": "a96153ed-f2f8-4410-f335-35537d2989c4"
      },
      "source": [
        "nt_search(str(main_seq),str(subseq))"
      ],
      "execution_count": 67,
      "outputs": [
        {
          "output_type": "execute_result",
          "data": {
            "text/plain": [
              "['ACT', 3]"
            ]
          },
          "metadata": {
            "tags": []
          },
          "execution_count": 67
        }
      ]
    },
    {
      "cell_type": "code",
      "metadata": {
        "id": "tazWwP9lliix"
      },
      "source": [
        ""
      ],
      "execution_count": null,
      "outputs": []
    }
  ]
}